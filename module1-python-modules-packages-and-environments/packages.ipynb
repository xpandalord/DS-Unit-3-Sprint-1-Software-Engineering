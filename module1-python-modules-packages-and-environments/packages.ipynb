{
 "cells": [
  {
   "cell_type": "code",
   "execution_count": 1,
   "metadata": {},
   "outputs": [
    {
     "name": "stdout",
     "output_type": "stream",
     "text": [
      "Looking in indexes: https://test.pypi.org/simple/\n",
      "Collecting lambdata-xpandalord==0.0.10\n",
      "  Downloading https://test-files.pythonhosted.org/packages/80/49/d36d87caed3c41c9549f50b05ecbf1d25eb0a42cc950843470fe83b690fd/lambdata_xpandalord-0.0.10-py3-none-any.whl (3.5 kB)\n",
      "Requirement already satisfied: scikit-learn in c:\\users\\xpand\\appdata\\local\\programs\\python\\python38\\lib\\site-packages (from lambdata-xpandalord==0.0.10) (0.23.1)\n",
      "Requirement already satisfied: numpy in c:\\users\\xpand\\appdata\\local\\programs\\python\\python38\\lib\\site-packages (from lambdata-xpandalord==0.0.10) (1.19.1)\n",
      "Requirement already satisfied: pandas in c:\\users\\xpand\\appdata\\local\\programs\\python\\python38\\lib\\site-packages (from lambdata-xpandalord==0.0.10) (1.1.0)\n",
      "Requirement already satisfied: matplotlib in c:\\users\\xpand\\appdata\\local\\programs\\python\\python38\\lib\\site-packages (from lambdata-xpandalord==0.0.10) (3.3.0)\n",
      "Requirement already satisfied: threadpoolctl>=2.0.0 in c:\\users\\xpand\\appdata\\local\\programs\\python\\python38\\lib\\site-packages (from scikit-learn->lambdata-xpandalord==0.0.10) (2.1.0)\n",
      "Requirement already satisfied: scipy>=0.19.1 in c:\\users\\xpand\\appdata\\local\\programs\\python\\python38\\lib\\site-packages (from scikit-learn->lambdata-xpandalord==0.0.10) (1.5.2)\n",
      "Requirement already satisfied: joblib>=0.11 in c:\\users\\xpand\\appdata\\local\\programs\\python\\python38\\lib\\site-packages (from scikit-learn->lambdata-xpandalord==0.0.10) (0.16.0)\n",
      "Requirement already satisfied: python-dateutil>=2.7.3 in c:\\users\\xpand\\appdata\\local\\programs\\python\\python38\\lib\\site-packages (from pandas->lambdata-xpandalord==0.0.10) (2.8.1)\n",
      "Requirement already satisfied: pytz>=2017.2 in c:\\users\\xpand\\appdata\\local\\programs\\python\\python38\\lib\\site-packages (from pandas->lambdata-xpandalord==0.0.10) (2020.1)\n",
      "Requirement already satisfied: kiwisolver>=1.0.1 in c:\\users\\xpand\\appdata\\local\\programs\\python\\python38\\lib\\site-packages (from matplotlib->lambdata-xpandalord==0.0.10) (1.2.0)\n",
      "Requirement already satisfied: cycler>=0.10 in c:\\users\\xpand\\appdata\\local\\programs\\python\\python38\\lib\\site-packages (from matplotlib->lambdata-xpandalord==0.0.10) (0.10.0)\n",
      "Requirement already satisfied: pillow>=6.2.0 in c:\\users\\xpand\\appdata\\local\\programs\\python\\python38\\lib\\site-packages (from matplotlib->lambdata-xpandalord==0.0.10) (7.2.0)\n",
      "Requirement already satisfied: pyparsing!=2.0.4,!=2.1.2,!=2.1.6,>=2.0.3 in c:\\users\\xpand\\appdata\\local\\programs\\python\\python38\\lib\\site-packages (from matplotlib->lambdata-xpandalord==0.0.10) (2.4.7)\n",
      "Requirement already satisfied: six>=1.5 in c:\\users\\xpand\\appdata\\local\\programs\\python\\python38\\lib\\site-packages (from python-dateutil>=2.7.3->pandas->lambdata-xpandalord==0.0.10) (1.15.0)\n",
      "Installing collected packages: lambdata-xpandalord\n",
      "  Attempting uninstall: lambdata-xpandalord\n",
      "    Found existing installation: lambdata-xpandalord 0.0.3\n",
      "    Uninstalling lambdata-xpandalord-0.0.3:\n",
      "      Successfully uninstalled lambdata-xpandalord-0.0.3\n",
      "Successfully installed lambdata-xpandalord-0.0.10\n"
     ]
    },
    {
     "name": "stderr",
     "output_type": "stream",
     "text": [
      "WARNING: You are using pip version 20.1.1; however, version 20.2 is available.\n",
      "You should consider upgrading via the 'c:\\users\\xpand\\appdata\\local\\programs\\python\\python38\\python.exe -m pip install --upgrade pip' command.\n"
     ]
    }
   ],
   "source": [
    "!pip install -i https://test.pypi.org/simple/ lambdata-xpandalord==0.0.10"
   ]
  },
  {
   "cell_type": "code",
   "execution_count": 2,
   "metadata": {},
   "outputs": [
    {
     "name": "stdout",
     "output_type": "stream",
     "text": [
      "Looking in indexes: https://test.pypi.org/simple/\n",
      "Requirement already satisfied: lambdata-soycode in c:\\users\\xpand\\appdata\\local\\programs\\python\\python38\\lib\\site-packages (0.4.0)\n",
      "Requirement already satisfied: pandas in c:\\users\\xpand\\appdata\\local\\programs\\python\\python38\\lib\\site-packages (from lambdata-soycode) (1.1.0)\n",
      "Requirement already satisfied: numpy in c:\\users\\xpand\\appdata\\local\\programs\\python\\python38\\lib\\site-packages (from lambdata-soycode) (1.19.1)\n",
      "Requirement already satisfied: python-dateutil>=2.7.3 in c:\\users\\xpand\\appdata\\local\\programs\\python\\python38\\lib\\site-packages (from pandas->lambdata-soycode) (2.8.1)\n",
      "Requirement already satisfied: pytz>=2017.2 in c:\\users\\xpand\\appdata\\local\\programs\\python\\python38\\lib\\site-packages (from pandas->lambdata-soycode) (2020.1)\n",
      "Requirement already satisfied: six>=1.5 in c:\\users\\xpand\\appdata\\local\\programs\\python\\python38\\lib\\site-packages (from python-dateutil>=2.7.3->pandas->lambdata-soycode) (1.15.0)\n"
     ]
    },
    {
     "name": "stderr",
     "output_type": "stream",
     "text": [
      "WARNING: You are using pip version 20.1.1; however, version 20.2 is available.\n",
      "You should consider upgrading via the 'c:\\users\\xpand\\appdata\\local\\programs\\python\\python38\\python.exe -m pip install --upgrade pip' command.\n"
     ]
    }
   ],
   "source": [
    "!pip install -i https://test.pypi.org/simple/ lambdata-soycode"
   ]
  },
  {
   "cell_type": "code",
   "execution_count": 3,
   "metadata": {},
   "outputs": [],
   "source": [
    "import lambdata_soycode"
   ]
  },
  {
   "cell_type": "code",
   "execution_count": 10,
   "metadata": {},
   "outputs": [
    {
     "name": "stdout",
     "output_type": "stream",
     "text": [
      "Your selected dataframe has 6 columns and 5 Rows.\n",
      "There are 6 columns that have missing values.\n"
     ]
    },
    {
     "data": {
      "text/html": [
       "<div>\n",
       "<style scoped>\n",
       "    .dataframe tbody tr th:only-of-type {\n",
       "        vertical-align: middle;\n",
       "    }\n",
       "\n",
       "    .dataframe tbody tr th {\n",
       "        vertical-align: top;\n",
       "    }\n",
       "\n",
       "    .dataframe thead th {\n",
       "        text-align: right;\n",
       "    }\n",
       "</style>\n",
       "<table border=\"1\" class=\"dataframe\">\n",
       "  <thead>\n",
       "    <tr style=\"text-align: right;\">\n",
       "      <th></th>\n",
       "      <th>Missing Values</th>\n",
       "      <th>% of Total Values</th>\n",
       "    </tr>\n",
       "  </thead>\n",
       "  <tbody>\n",
       "    <tr>\n",
       "      <th>last_name</th>\n",
       "      <td>2</td>\n",
       "      <td>40.0</td>\n",
       "    </tr>\n",
       "    <tr>\n",
       "      <th>Test2_Score</th>\n",
       "      <td>2</td>\n",
       "      <td>40.0</td>\n",
       "    </tr>\n",
       "    <tr>\n",
       "      <th>first_name</th>\n",
       "      <td>1</td>\n",
       "      <td>20.0</td>\n",
       "    </tr>\n",
       "    <tr>\n",
       "      <th>age</th>\n",
       "      <td>1</td>\n",
       "      <td>20.0</td>\n",
       "    </tr>\n",
       "    <tr>\n",
       "      <th>sex</th>\n",
       "      <td>1</td>\n",
       "      <td>20.0</td>\n",
       "    </tr>\n",
       "    <tr>\n",
       "      <th>Test1_Score</th>\n",
       "      <td>1</td>\n",
       "      <td>20.0</td>\n",
       "    </tr>\n",
       "  </tbody>\n",
       "</table>\n",
       "</div>"
      ],
      "text/plain": [
       "             Missing Values  % of Total Values\n",
       "last_name                 2               40.0\n",
       "Test2_Score               2               40.0\n",
       "first_name                1               20.0\n",
       "age                       1               20.0\n",
       "sex                       1               20.0\n",
       "Test1_Score               1               20.0"
      ]
     },
     "execution_count": 10,
     "metadata": {},
     "output_type": "execute_result"
    }
   ],
   "source": [
    "import lambdata_xpandalord.dataframe_helper as lambdata\n",
    "\n",
    "import numpy as np\n",
    "import pandas as pd\n",
    "\n",
    "raw_data = {'first_name': ['Jason', np.nan, 'Tina', 'Jake', 'Amy'], \n",
    "        'last_name': ['Miller', np.nan, np.nan, 'Milner', 'Cooze'], \n",
    "        'age': [22, np.nan, 23, 24, 25], \n",
    "        'sex': ['m', np.nan, 'f', 'm', 'f'], \n",
    "        'Test1_Score': [4, np.nan, 0, 0, 0],\n",
    "        'Test2_Score': [25, np.nan, np.nan, 0, 0]}\n",
    "results = pd.DataFrame(raw_data, columns = ['first_name', 'last_name', 'age', 'sex', 'Test1_Score', 'Test2_Score'])\n",
    "\n",
    "lambdata.report_missing_values(results)"
   ]
  },
  {
   "cell_type": "code",
   "execution_count": 5,
   "metadata": {},
   "outputs": [
    {
     "name": "stdout",
     "output_type": "stream",
     "text": [
      "Package             Version\n",
      "------------------- ---------\n",
      "appdirs             1.4.4\n",
      "astroid             2.4.2\n",
      "attrs               19.3.0\n",
      "backcall            0.2.0\n",
      "bleach              3.1.5\n",
      "certifi             2020.6.20\n",
      "chardet             3.0.4\n",
      "colorama            0.4.3\n",
      "cycler              0.10.0\n",
      "decorator           4.4.2\n",
      "defusedxml          0.6.0\n",
      "distlib             0.3.1\n",
      "entrypoints         0.3\n",
      "filelock            3.0.12\n",
      "idna                2.10\n",
      "ipykernel           5.3.1\n",
      "ipython             7.16.1\n",
      "ipython-genutils    0.2.0\n",
      "ipywidgets          7.5.1\n",
      "isort               4.3.21\n",
      "jedi                0.17.1\n",
      "Jinja2              2.11.2\n",
      "joblib              0.16.0\n",
      "json5               0.9.5\n",
      "jsonschema          3.2.0\n",
      "jupyter             1.0.0\n",
      "jupyter-client      6.1.5\n",
      "jupyter-console     6.1.0\n",
      "jupyter-core        4.6.3\n",
      "jupyterlab          2.2.0\n",
      "jupyterlab-server   1.2.0\n",
      "kiwisolver          1.2.0\n",
      "lab                 6.0\n",
      "lambdata-soycode    0.4.0\n",
      "lambdata-xpandalord 0.0.10\n",
      "lazy-object-proxy   1.4.3\n",
      "MarkupSafe          1.1.1\n",
      "matplotlib          3.3.0\n",
      "mccabe              0.6.1\n",
      "mistune             0.8.4\n",
      "nbconvert           5.6.1\n",
      "nbformat            5.0.7\n",
      "notebook            6.0.3\n",
      "numpy               1.19.1\n",
      "packaging           20.4\n",
      "pandas              1.1.0\n",
      "pandocfilters       1.4.2\n",
      "parso               0.7.0\n",
      "pickleshare         0.7.5\n",
      "Pillow              7.2.0\n",
      "pip                 20.1.1\n",
      "pipenv              2020.6.2\n",
      "prometheus-client   0.8.0\n",
      "prompt-toolkit      3.0.5\n",
      "Pygments            2.6.1\n",
      "pylint              2.5.3\n",
      "pyparsing           2.4.7\n",
      "pyrsistent          0.16.0\n",
      "python-dateutil     2.8.1\n",
      "pytz                2020.1\n",
      "pywin32             228\n",
      "pywinpty            0.5.7\n",
      "pyzmq               19.0.1\n",
      "qtconsole           4.7.5\n",
      "QtPy                1.9.0\n",
      "requests            2.24.0\n",
      "scikit-learn        0.23.1\n",
      "scipy               1.5.2\n",
      "Send2Trash          1.5.0\n",
      "setuptools          47.1.0\n",
      "simplejson          3.17.2\n",
      "six                 1.15.0\n",
      "sklearn             0.0\n",
      "terminado           0.8.3\n",
      "testpath            0.4.4\n",
      "threadpoolctl       2.1.0\n",
      "toml                0.10.1\n",
      "tornado             6.0.4\n",
      "traitlets           4.3.3\n",
      "txt2tags            3.7\n",
      "urllib3             1.25.10\n",
      "virtualenv          20.0.26\n",
      "virtualenv-clone    0.5.4\n",
      "wcwidth             0.2.5\n",
      "webencodings        0.5.1\n",
      "wheel               0.34.2\n",
      "widgetsnbextension  3.5.1\n",
      "wrapt               1.12.1\n"
     ]
    },
    {
     "name": "stderr",
     "output_type": "stream",
     "text": [
      "WARNING: You are using pip version 20.1.1; however, version 20.2 is available.\n",
      "You should consider upgrading via the 'c:\\users\\xpand\\appdata\\local\\programs\\python\\python38\\python.exe -m pip install --upgrade pip' command.\n"
     ]
    }
   ],
   "source": [
    "!pip list"
   ]
  },
  {
   "cell_type": "code",
   "execution_count": null,
   "metadata": {},
   "outputs": [],
   "source": []
  }
 ],
 "metadata": {
  "kernelspec": {
   "display_name": "Python 3",
   "language": "python",
   "name": "python3"
  },
  "language_info": {
   "codemirror_mode": {
    "name": "ipython",
    "version": 3
   },
   "file_extension": ".py",
   "mimetype": "text/x-python",
   "name": "python",
   "nbconvert_exporter": "python",
   "pygments_lexer": "ipython3",
   "version": "3.8.5"
  }
 },
 "nbformat": 4,
 "nbformat_minor": 4
}
