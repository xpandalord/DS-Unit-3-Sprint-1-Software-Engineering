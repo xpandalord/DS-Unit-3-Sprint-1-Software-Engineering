{
 "cells": [
  {
   "cell_type": "code",
   "execution_count": 1,
   "metadata": {},
   "outputs": [
    {
     "name": "stdout",
     "output_type": "stream",
     "text": [
      "Looking in indexes: https://test.pypi.org/simple/\n",
      "Collecting lambdata-skproj\n",
      "  Downloading https://test-files.pythonhosted.org/packages/6c/fb/665df700c212c0ba43fbd75e93e081a72b837a87ccf8c19a9cb4651b02c6/lambdata_skproj-0.0.2-py3-none-any.whl (2.9 kB)\n",
      "Requirement already satisfied: pandas in c:\\users\\xpand\\.virtualenvs\\ds-unit-3-sprint-1-software-engineering-ykzz0fkx\\lib\\site-packages (from lambdata-skproj) (1.1.0)\n",
      "Requirement already satisfied: numpy in c:\\users\\xpand\\.virtualenvs\\ds-unit-3-sprint-1-software-engineering-ykzz0fkx\\lib\\site-packages (from lambdata-skproj) (1.19.1)\n",
      "Requirement already satisfied: pytz>=2017.2 in c:\\users\\xpand\\.virtualenvs\\ds-unit-3-sprint-1-software-engineering-ykzz0fkx\\lib\\site-packages (from pandas->lambdata-skproj) (2020.1)\n",
      "Requirement already satisfied: python-dateutil>=2.7.3 in c:\\users\\xpand\\.virtualenvs\\ds-unit-3-sprint-1-software-engineering-ykzz0fkx\\lib\\site-packages (from pandas->lambdata-skproj) (2.8.1)\n",
      "Requirement already satisfied: six>=1.5 in c:\\users\\xpand\\.virtualenvs\\ds-unit-3-sprint-1-software-engineering-ykzz0fkx\\lib\\site-packages (from python-dateutil>=2.7.3->pandas->lambdata-skproj) (1.15.0)\n",
      "Installing collected packages: lambdata-skproj\n",
      "Successfully installed lambdata-skproj-0.0.2\n"
     ]
    }
   ],
   "source": [
    "!pip install -i https://test.pypi.org/simple/ lambdata-skproj"
   ]
  },
  {
   "cell_type": "code",
   "execution_count": 3,
   "metadata": {},
   "outputs": [
    {
     "name": "stdout",
     "output_type": "stream",
     "text": [
      "this is fit_esp\n"
     ]
    }
   ],
   "source": [
    "from lambdata_skproj import fit_est"
   ]
  },
  {
   "cell_type": "code",
   "execution_count": 12,
   "metadata": {},
   "outputs": [
    {
     "data": {
      "text/plain": [
       "age            4\n",
       "first_name     4\n",
       "last_name      3\n",
       "Test1_Score    2\n",
       "sex            2\n",
       "Test2_Score    1\n",
       "dtype: int64"
      ]
     },
     "execution_count": 12,
     "metadata": {},
     "output_type": "execute_result"
    }
   ],
   "source": [
    "import numpy as np\n",
    "import pandas as pd\n",
    "\n",
    "raw_data = {'first_name': ['Jason', np.nan, 'Tina', 'Jake', 'Amy'], \n",
    "        'last_name': ['Miller', np.nan, np.nan, 'Milner', 'Cooze'], \n",
    "        'age': [22, np.nan, 23, 24, 25], \n",
    "        'sex': ['m', np.nan, 'f', 'm', 'f'], \n",
    "        'Test1_Score': [4, np.nan, 0, 0, 0],\n",
    "        'Test2_Score': [0, 0, 0, 0, 0]}\n",
    "results = pd.DataFrame(raw_data, columns = ['first_name', 'last_name', 'age', 'sex', 'Test1_Score', 'Test2_Score'])\n",
    "\n",
    "fit_est.unique_df(results)"
   ]
  },
  {
   "cell_type": "code",
   "execution_count": 13,
   "metadata": {},
   "outputs": [],
   "source": [
    "new_results = fit_est.skew_col(results)"
   ]
  },
  {
   "cell_type": "code",
   "execution_count": 15,
   "metadata": {},
   "outputs": [
    {
     "data": {
      "text/plain": [
       "Index(['first_name', 'last_name', 'age', 'sex', 'Test1_Score', 'Test2_Score'], dtype='object')"
      ]
     },
     "execution_count": 15,
     "metadata": {},
     "output_type": "execute_result"
    }
   ],
   "source": [
    "results.nunique().index"
   ]
  },
  {
   "cell_type": "code",
   "execution_count": 19,
   "metadata": {},
   "outputs": [
    {
     "data": {
      "text/plain": [
       "Index(['first_name', 'last_name', 'age', 'sex', 'Test1_Score', 'Test2_Score'], dtype='object')"
      ]
     },
     "execution_count": 19,
     "metadata": {},
     "output_type": "execute_result"
    }
   ],
   "source": [
    "results.columns"
   ]
  },
  {
   "cell_type": "code",
   "execution_count": 16,
   "metadata": {},
   "outputs": [
    {
     "data": {
      "text/plain": [
       "RangeIndex(start=0, stop=5, step=1)"
      ]
     },
     "execution_count": 16,
     "metadata": {},
     "output_type": "execute_result"
    }
   ],
   "source": [
    "results.index"
   ]
  },
  {
   "cell_type": "code",
   "execution_count": 17,
   "metadata": {},
   "outputs": [
    {
     "data": {
      "text/html": [
       "<div>\n",
       "<style scoped>\n",
       "    .dataframe tbody tr th:only-of-type {\n",
       "        vertical-align: middle;\n",
       "    }\n",
       "\n",
       "    .dataframe tbody tr th {\n",
       "        vertical-align: top;\n",
       "    }\n",
       "\n",
       "    .dataframe thead th {\n",
       "        text-align: right;\n",
       "    }\n",
       "</style>\n",
       "<table border=\"1\" class=\"dataframe\">\n",
       "  <thead>\n",
       "    <tr style=\"text-align: right;\">\n",
       "      <th></th>\n",
       "      <th>first_name</th>\n",
       "      <th>last_name</th>\n",
       "      <th>age</th>\n",
       "      <th>sex</th>\n",
       "      <th>Test1_Score</th>\n",
       "      <th>Test2_Score</th>\n",
       "    </tr>\n",
       "  </thead>\n",
       "  <tbody>\n",
       "    <tr>\n",
       "      <th>0</th>\n",
       "      <td>Jason</td>\n",
       "      <td>Miller</td>\n",
       "      <td>22.0</td>\n",
       "      <td>m</td>\n",
       "      <td>4.0</td>\n",
       "      <td>0</td>\n",
       "    </tr>\n",
       "    <tr>\n",
       "      <th>1</th>\n",
       "      <td>NaN</td>\n",
       "      <td>NaN</td>\n",
       "      <td>NaN</td>\n",
       "      <td>NaN</td>\n",
       "      <td>NaN</td>\n",
       "      <td>0</td>\n",
       "    </tr>\n",
       "    <tr>\n",
       "      <th>2</th>\n",
       "      <td>Tina</td>\n",
       "      <td>NaN</td>\n",
       "      <td>23.0</td>\n",
       "      <td>f</td>\n",
       "      <td>0.0</td>\n",
       "      <td>0</td>\n",
       "    </tr>\n",
       "    <tr>\n",
       "      <th>3</th>\n",
       "      <td>Jake</td>\n",
       "      <td>Milner</td>\n",
       "      <td>24.0</td>\n",
       "      <td>m</td>\n",
       "      <td>0.0</td>\n",
       "      <td>0</td>\n",
       "    </tr>\n",
       "    <tr>\n",
       "      <th>4</th>\n",
       "      <td>Amy</td>\n",
       "      <td>Cooze</td>\n",
       "      <td>25.0</td>\n",
       "      <td>f</td>\n",
       "      <td>0.0</td>\n",
       "      <td>0</td>\n",
       "    </tr>\n",
       "  </tbody>\n",
       "</table>\n",
       "</div>"
      ],
      "text/plain": [
       "  first_name last_name   age  sex  Test1_Score  Test2_Score\n",
       "0      Jason    Miller  22.0    m          4.0            0\n",
       "1        NaN       NaN   NaN  NaN          NaN            0\n",
       "2       Tina       NaN  23.0    f          0.0            0\n",
       "3       Jake    Milner  24.0    m          0.0            0\n",
       "4        Amy     Cooze  25.0    f          0.0            0"
      ]
     },
     "execution_count": 17,
     "metadata": {},
     "output_type": "execute_result"
    }
   ],
   "source": [
    "results"
   ]
  },
  {
   "cell_type": "code",
   "execution_count": 29,
   "metadata": {},
   "outputs": [],
   "source": [
    "mask = pd.Series(data=(results[col].value_counts().max() / results[col].value_counts().sum() for col in results.nunique().index))"
   ]
  },
  {
   "cell_type": "code",
   "execution_count": 25,
   "metadata": {},
   "outputs": [
    {
     "data": {
      "text/plain": [
       "0    0.250000\n",
       "1    0.333333\n",
       "2    0.250000\n",
       "3    0.500000\n",
       "4    0.750000\n",
       "5    1.000000\n",
       "dtype: float64"
      ]
     },
     "execution_count": 25,
     "metadata": {},
     "output_type": "execute_result"
    }
   ],
   "source": [
    "mask"
   ]
  },
  {
   "cell_type": "code",
   "execution_count": 18,
   "metadata": {},
   "outputs": [
    {
     "name": "stdout",
     "output_type": "stream",
     "text": [
      "Looking in indexes: https://test.pypi.org/simple/\n",
      "Collecting lambdata-xpandalord==0.1.8\n",
      "  Downloading https://test-files.pythonhosted.org/packages/f3/51/98446fa19fa1a9c8790be2af2df4bd798a0366191d73da0bfb96476a6229/lambdata_xpandalord-0.1.8-py3-none-any.whl (5.4 kB)\n",
      "Requirement already satisfied: numpy in c:\\users\\xpand\\.virtualenvs\\ds-unit-3-sprint-1-software-engineering-ykzz0fkx\\lib\\site-packages (from lambdata-xpandalord==0.1.8) (1.19.1)\n",
      "Requirement already satisfied: scikit-learn in c:\\users\\xpand\\.virtualenvs\\ds-unit-3-sprint-1-software-engineering-ykzz0fkx\\lib\\site-packages (from lambdata-xpandalord==0.1.8) (0.23.2)\n",
      "Requirement already satisfied: pandas in c:\\users\\xpand\\.virtualenvs\\ds-unit-3-sprint-1-software-engineering-ykzz0fkx\\lib\\site-packages (from lambdata-xpandalord==0.1.8) (1.1.0)\n",
      "Requirement already satisfied: threadpoolctl>=2.0.0 in c:\\users\\xpand\\.virtualenvs\\ds-unit-3-sprint-1-software-engineering-ykzz0fkx\\lib\\site-packages (from scikit-learn->lambdata-xpandalord==0.1.8) (2.1.0)\n",
      "Requirement already satisfied: joblib>=0.11 in c:\\users\\xpand\\.virtualenvs\\ds-unit-3-sprint-1-software-engineering-ykzz0fkx\\lib\\site-packages (from scikit-learn->lambdata-xpandalord==0.1.8) (0.16.0)\n",
      "Requirement already satisfied: scipy>=0.19.1 in c:\\users\\xpand\\.virtualenvs\\ds-unit-3-sprint-1-software-engineering-ykzz0fkx\\lib\\site-packages (from scikit-learn->lambdata-xpandalord==0.1.8) (1.5.2)\n",
      "Requirement already satisfied: python-dateutil>=2.7.3 in c:\\users\\xpand\\.virtualenvs\\ds-unit-3-sprint-1-software-engineering-ykzz0fkx\\lib\\site-packages (from pandas->lambdata-xpandalord==0.1.8) (2.8.1)\n",
      "Requirement already satisfied: pytz>=2017.2 in c:\\users\\xpand\\.virtualenvs\\ds-unit-3-sprint-1-software-engineering-ykzz0fkx\\lib\\site-packages (from pandas->lambdata-xpandalord==0.1.8) (2020.1)\n",
      "Requirement already satisfied: six>=1.5 in c:\\users\\xpand\\.virtualenvs\\ds-unit-3-sprint-1-software-engineering-ykzz0fkx\\lib\\site-packages (from python-dateutil>=2.7.3->pandas->lambdata-xpandalord==0.1.8) (1.15.0)\n",
      "Installing collected packages: lambdata-xpandalord\n",
      "  Attempting uninstall: lambdata-xpandalord\n",
      "    Found existing installation: lambdata-xpandalord 0.1.7\n",
      "    Uninstalling lambdata-xpandalord-0.1.7:\n",
      "      Successfully uninstalled lambdata-xpandalord-0.1.7\n",
      "Successfully installed lambdata-xpandalord-0.1.8\n"
     ]
    }
   ],
   "source": [
    "!pip install -i https://test.pypi.org/simple/ lambdata-xpandalord==0.1.8"
   ]
  },
  {
   "cell_type": "code",
   "execution_count": 1,
   "metadata": {},
   "outputs": [],
   "source": [
    "import lambdata_xpandalord.dataframe_helper as dh"
   ]
  },
  {
   "cell_type": "code",
   "execution_count": 2,
   "metadata": {},
   "outputs": [],
   "source": [
    "import pandas as pd\n",
    "pd.options.display.max_columns = None\n",
    "league = pd.read_csv('../data/high_diamond_ranked_10min.csv')"
   ]
  },
  {
   "cell_type": "code",
   "execution_count": 3,
   "metadata": {},
   "outputs": [],
   "source": [
    "report = dh.Report(league, 'blueWins')"
   ]
  },
  {
   "cell_type": "code",
   "execution_count": 4,
   "metadata": {},
   "outputs": [
    {
     "name": "stdout",
     "output_type": "stream",
     "text": [
      "Your selected dataframe has 40 columns and 9879 Rows.\n",
      "There are 40 columns that have missing values.\n"
     ]
    },
    {
     "data": {
      "text/html": [
       "<div>\n",
       "<style scoped>\n",
       "    .dataframe tbody tr th:only-of-type {\n",
       "        vertical-align: middle;\n",
       "    }\n",
       "\n",
       "    .dataframe tbody tr th {\n",
       "        vertical-align: top;\n",
       "    }\n",
       "\n",
       "    .dataframe thead th {\n",
       "        text-align: right;\n",
       "    }\n",
       "</style>\n",
       "<table border=\"1\" class=\"dataframe\">\n",
       "  <thead>\n",
       "    <tr style=\"text-align: right;\">\n",
       "      <th></th>\n",
       "      <th>Missing Values</th>\n",
       "      <th>% of Total Values</th>\n",
       "    </tr>\n",
       "  </thead>\n",
       "  <tbody>\n",
       "    <tr>\n",
       "      <th>gameId</th>\n",
       "      <td>0</td>\n",
       "      <td>0.0</td>\n",
       "    </tr>\n",
       "    <tr>\n",
       "      <th>blueWins</th>\n",
       "      <td>0</td>\n",
       "      <td>0.0</td>\n",
       "    </tr>\n",
       "    <tr>\n",
       "      <th>redWardsDestroyed</th>\n",
       "      <td>0</td>\n",
       "      <td>0.0</td>\n",
       "    </tr>\n",
       "    <tr>\n",
       "      <th>redFirstBlood</th>\n",
       "      <td>0</td>\n",
       "      <td>0.0</td>\n",
       "    </tr>\n",
       "    <tr>\n",
       "      <th>redKills</th>\n",
       "      <td>0</td>\n",
       "      <td>0.0</td>\n",
       "    </tr>\n",
       "    <tr>\n",
       "      <th>redDeaths</th>\n",
       "      <td>0</td>\n",
       "      <td>0.0</td>\n",
       "    </tr>\n",
       "    <tr>\n",
       "      <th>redAssists</th>\n",
       "      <td>0</td>\n",
       "      <td>0.0</td>\n",
       "    </tr>\n",
       "    <tr>\n",
       "      <th>redEliteMonsters</th>\n",
       "      <td>0</td>\n",
       "      <td>0.0</td>\n",
       "    </tr>\n",
       "    <tr>\n",
       "      <th>redDragons</th>\n",
       "      <td>0</td>\n",
       "      <td>0.0</td>\n",
       "    </tr>\n",
       "    <tr>\n",
       "      <th>redHeralds</th>\n",
       "      <td>0</td>\n",
       "      <td>0.0</td>\n",
       "    </tr>\n",
       "    <tr>\n",
       "      <th>redTowersDestroyed</th>\n",
       "      <td>0</td>\n",
       "      <td>0.0</td>\n",
       "    </tr>\n",
       "    <tr>\n",
       "      <th>redTotalGold</th>\n",
       "      <td>0</td>\n",
       "      <td>0.0</td>\n",
       "    </tr>\n",
       "    <tr>\n",
       "      <th>redAvgLevel</th>\n",
       "      <td>0</td>\n",
       "      <td>0.0</td>\n",
       "    </tr>\n",
       "    <tr>\n",
       "      <th>redTotalExperience</th>\n",
       "      <td>0</td>\n",
       "      <td>0.0</td>\n",
       "    </tr>\n",
       "    <tr>\n",
       "      <th>redTotalMinionsKilled</th>\n",
       "      <td>0</td>\n",
       "      <td>0.0</td>\n",
       "    </tr>\n",
       "    <tr>\n",
       "      <th>redTotalJungleMinionsKilled</th>\n",
       "      <td>0</td>\n",
       "      <td>0.0</td>\n",
       "    </tr>\n",
       "    <tr>\n",
       "      <th>redGoldDiff</th>\n",
       "      <td>0</td>\n",
       "      <td>0.0</td>\n",
       "    </tr>\n",
       "    <tr>\n",
       "      <th>redExperienceDiff</th>\n",
       "      <td>0</td>\n",
       "      <td>0.0</td>\n",
       "    </tr>\n",
       "    <tr>\n",
       "      <th>redCSPerMin</th>\n",
       "      <td>0</td>\n",
       "      <td>0.0</td>\n",
       "    </tr>\n",
       "    <tr>\n",
       "      <th>redWardsPlaced</th>\n",
       "      <td>0</td>\n",
       "      <td>0.0</td>\n",
       "    </tr>\n",
       "    <tr>\n",
       "      <th>blueGoldPerMin</th>\n",
       "      <td>0</td>\n",
       "      <td>0.0</td>\n",
       "    </tr>\n",
       "    <tr>\n",
       "      <th>blueCSPerMin</th>\n",
       "      <td>0</td>\n",
       "      <td>0.0</td>\n",
       "    </tr>\n",
       "    <tr>\n",
       "      <th>blueDragons</th>\n",
       "      <td>0</td>\n",
       "      <td>0.0</td>\n",
       "    </tr>\n",
       "    <tr>\n",
       "      <th>blueWardsPlaced</th>\n",
       "      <td>0</td>\n",
       "      <td>0.0</td>\n",
       "    </tr>\n",
       "    <tr>\n",
       "      <th>blueWardsDestroyed</th>\n",
       "      <td>0</td>\n",
       "      <td>0.0</td>\n",
       "    </tr>\n",
       "    <tr>\n",
       "      <th>blueFirstBlood</th>\n",
       "      <td>0</td>\n",
       "      <td>0.0</td>\n",
       "    </tr>\n",
       "    <tr>\n",
       "      <th>blueKills</th>\n",
       "      <td>0</td>\n",
       "      <td>0.0</td>\n",
       "    </tr>\n",
       "    <tr>\n",
       "      <th>blueDeaths</th>\n",
       "      <td>0</td>\n",
       "      <td>0.0</td>\n",
       "    </tr>\n",
       "    <tr>\n",
       "      <th>blueAssists</th>\n",
       "      <td>0</td>\n",
       "      <td>0.0</td>\n",
       "    </tr>\n",
       "    <tr>\n",
       "      <th>blueEliteMonsters</th>\n",
       "      <td>0</td>\n",
       "      <td>0.0</td>\n",
       "    </tr>\n",
       "    <tr>\n",
       "      <th>blueHeralds</th>\n",
       "      <td>0</td>\n",
       "      <td>0.0</td>\n",
       "    </tr>\n",
       "    <tr>\n",
       "      <th>blueExperienceDiff</th>\n",
       "      <td>0</td>\n",
       "      <td>0.0</td>\n",
       "    </tr>\n",
       "    <tr>\n",
       "      <th>blueTowersDestroyed</th>\n",
       "      <td>0</td>\n",
       "      <td>0.0</td>\n",
       "    </tr>\n",
       "    <tr>\n",
       "      <th>blueTotalGold</th>\n",
       "      <td>0</td>\n",
       "      <td>0.0</td>\n",
       "    </tr>\n",
       "    <tr>\n",
       "      <th>blueAvgLevel</th>\n",
       "      <td>0</td>\n",
       "      <td>0.0</td>\n",
       "    </tr>\n",
       "    <tr>\n",
       "      <th>blueTotalExperience</th>\n",
       "      <td>0</td>\n",
       "      <td>0.0</td>\n",
       "    </tr>\n",
       "    <tr>\n",
       "      <th>blueTotalMinionsKilled</th>\n",
       "      <td>0</td>\n",
       "      <td>0.0</td>\n",
       "    </tr>\n",
       "    <tr>\n",
       "      <th>blueTotalJungleMinionsKilled</th>\n",
       "      <td>0</td>\n",
       "      <td>0.0</td>\n",
       "    </tr>\n",
       "    <tr>\n",
       "      <th>blueGoldDiff</th>\n",
       "      <td>0</td>\n",
       "      <td>0.0</td>\n",
       "    </tr>\n",
       "    <tr>\n",
       "      <th>redGoldPerMin</th>\n",
       "      <td>0</td>\n",
       "      <td>0.0</td>\n",
       "    </tr>\n",
       "  </tbody>\n",
       "</table>\n",
       "</div>"
      ],
      "text/plain": [
       "                              Missing Values  % of Total Values\n",
       "gameId                                     0                0.0\n",
       "blueWins                                   0                0.0\n",
       "redWardsDestroyed                          0                0.0\n",
       "redFirstBlood                              0                0.0\n",
       "redKills                                   0                0.0\n",
       "redDeaths                                  0                0.0\n",
       "redAssists                                 0                0.0\n",
       "redEliteMonsters                           0                0.0\n",
       "redDragons                                 0                0.0\n",
       "redHeralds                                 0                0.0\n",
       "redTowersDestroyed                         0                0.0\n",
       "redTotalGold                               0                0.0\n",
       "redAvgLevel                                0                0.0\n",
       "redTotalExperience                         0                0.0\n",
       "redTotalMinionsKilled                      0                0.0\n",
       "redTotalJungleMinionsKilled                0                0.0\n",
       "redGoldDiff                                0                0.0\n",
       "redExperienceDiff                          0                0.0\n",
       "redCSPerMin                                0                0.0\n",
       "redWardsPlaced                             0                0.0\n",
       "blueGoldPerMin                             0                0.0\n",
       "blueCSPerMin                               0                0.0\n",
       "blueDragons                                0                0.0\n",
       "blueWardsPlaced                            0                0.0\n",
       "blueWardsDestroyed                         0                0.0\n",
       "blueFirstBlood                             0                0.0\n",
       "blueKills                                  0                0.0\n",
       "blueDeaths                                 0                0.0\n",
       "blueAssists                                0                0.0\n",
       "blueEliteMonsters                          0                0.0\n",
       "blueHeralds                                0                0.0\n",
       "blueExperienceDiff                         0                0.0\n",
       "blueTowersDestroyed                        0                0.0\n",
       "blueTotalGold                              0                0.0\n",
       "blueAvgLevel                               0                0.0\n",
       "blueTotalExperience                        0                0.0\n",
       "blueTotalMinionsKilled                     0                0.0\n",
       "blueTotalJungleMinionsKilled               0                0.0\n",
       "blueGoldDiff                               0                0.0\n",
       "redGoldPerMin                              0                0.0"
      ]
     },
     "execution_count": 4,
     "metadata": {},
     "output_type": "execute_result"
    }
   ],
   "source": [
    "report.report_missing_values()"
   ]
  },
  {
   "cell_type": "code",
   "execution_count": 5,
   "metadata": {},
   "outputs": [],
   "source": [
    "train, val, test = report.train_val_test_split()"
   ]
  },
  {
   "cell_type": "code",
   "execution_count": 6,
   "metadata": {},
   "outputs": [],
   "source": [
    "X_train, y_train = report.target_split(train)\n",
    "X_val, y_val = report.target_split(val)\n",
    "X_test, y_test = report.target_split(test)"
   ]
  },
  {
   "cell_type": "code",
   "execution_count": 7,
   "metadata": {},
   "outputs": [],
   "source": [
    "from sklearn.linear_model import LogisticRegression\n",
    "\n",
    "estimator = LogisticRegression()"
   ]
  },
  {
   "cell_type": "code",
   "execution_count": 8,
   "metadata": {},
   "outputs": [
    {
     "name": "stdout",
     "output_type": "stream",
     "text": [
      "Training Accuracy: 0.5009490667510281\n",
      "Validation Accuracy: 0.5009487666034156\n"
     ]
    }
   ],
   "source": [
    "best_est, y_train_pred, y_test_pred = report.report_fit_predict_score(estimator, X_train, y_train, X_val, y_val)"
   ]
  },
  {
   "cell_type": "code",
   "execution_count": 9,
   "metadata": {},
   "outputs": [
    {
     "data": {
      "image/png": "[encoded data removed]",
      "text/plain": [
       "<Figure size 432x288 with 2 Axes>"
      ]
     },
     "metadata": {
      "needs_background": "light"
     },
     "output_type": "display_data"
    }
   ],
   "source": [
    "report.plot_confusion_matrix(estimator, X_val, y_val)"
   ]
  },
  {
   "cell_type": "code",
   "execution_count": 32,
   "metadata": {},
   "outputs": [
    {
     "name": "stdout",
     "output_type": "stream",
     "text": [
      "Help on function train_val_test_split in module lambdata_xpandalord.dataframe_helper:\n",
      "\n",
      "train_val_test_split(self)\n",
      "    Spliting the dataframe into train, validation, and test sets.\n",
      "\n"
     ]
    }
   ],
   "source": [
    "import lambdata_xpandalord.dataframe_helper as dh\n",
    "\n",
    "help(dh.Report.train_val_test_split)"
   ]
  },
  {
   "cell_type": "code",
   "execution_count": 28,
   "metadata": {},
   "outputs": [
    {
     "name": "stdout",
     "output_type": "stream",
     "text": [
      "Help on module lambdata_xpandalord.dataframe_helper in lambdata_xpandalord:\n",
      "\n",
      "NAME\n",
      "    lambdata_xpandalord.dataframe_helper - Some functions to help cleaning and handling dataframes.\n",
      "\n",
      "CLASSES\n",
      "    builtins.object\n",
      "        Report\n",
      "    \n",
      "    class Report(builtins.object)\n",
      "     |  Report(df, target)\n",
      "     |  \n",
      "     |  Methods defined here:\n",
      "     |  \n",
      "     |  __init__(self, df, target)\n",
      "     |      Initialize self.  See help(type(self)) for accurate signature.\n",
      "     |  \n",
      "     |  report_confusion_matrix(self, actual, predicted)\n",
      "     |      Plot a confusion matrix given the actual values and predicted values.\n",
      "     |      \n",
      "     |      Keyword arguments:\n",
      "     |       actual -- an array of the true target values\n",
      "     |       predicted -- an array of the target values predicted by the estimator\n",
      "     |  \n",
      "     |  report_fit_predict_score(self, estimator, train, val)\n",
      "     |      Report the training and validation accuracy.\n",
      "     |      Returns the fitted estimator and the two prediction arrays.\n",
      "     |  \n",
      "     |  report_missing_values(self)\n",
      "     |      Print a pretty report of missing values.\n",
      "     |  \n",
      "     |  train_val_test_split(self)\n",
      "     |      Spliting the dataframe into train, validation, and test sets.\n",
      "     |  \n",
      "     |  ----------------------------------------------------------------------\n",
      "     |  Data descriptors defined here:\n",
      "     |  \n",
      "     |  __dict__\n",
      "     |      dictionary for instance variables (if defined)\n",
      "     |  \n",
      "     |  __weakref__\n",
      "     |      list of weak references to the object (if defined)\n",
      "\n",
      "FILE\n",
      "    c:\\users\\xpand\\.virtualenvs\\ds-unit-3-sprint-1-software-engineering-ykzz0fkx\\lib\\site-packages\\lambdata_xpandalord\\dataframe_helper.py\n",
      "\n",
      "\n"
     ]
    }
   ],
   "source": [
    "import lambdata_xpandalord.dataframe_helper as dh\n",
    "\n",
    "help(dh)"
   ]
  },
  {
   "cell_type": "code",
   "execution_count": null,
   "metadata": {},
   "outputs": [],
   "source": []
  }
 ],
 "metadata": {
  "kernelspec": {
   "display_name": "Python 3",
   "language": "python",
   "name": "python3"
  },
  "language_info": {
   "codemirror_mode": {
    "name": "ipython",
    "version": 3
   },
   "file_extension": ".py",
   "mimetype": "text/x-python",
   "name": "python",
   "nbconvert_exporter": "python",
   "pygments_lexer": "ipython3",
   "version": "3.8.5"
  }
 },
 "nbformat": 4,
 "nbformat_minor": 4
}
